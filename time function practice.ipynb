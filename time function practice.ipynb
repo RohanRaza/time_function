{
 "cells": [
  {
   "cell_type": "code",
   "execution_count": 1,
   "id": "e45c6653",
   "metadata": {},
   "outputs": [],
   "source": [
    "from csv import reader"
   ]
  },
  {
   "cell_type": "code",
   "execution_count": 2,
   "id": "bae645ce",
   "metadata": {},
   "outputs": [],
   "source": [
    "data = list(reader(open(\"potus_visitors_2015.csv\")))"
   ]
  },
  {
   "cell_type": "code",
   "execution_count": 3,
   "id": "8feee3e8",
   "metadata": {},
   "outputs": [],
   "source": [
    "title = data[0]"
   ]
  },
  {
   "cell_type": "code",
   "execution_count": 4,
   "id": "597969e9",
   "metadata": {},
   "outputs": [],
   "source": [
    "potus = data[1:]"
   ]
  },
  {
   "cell_type": "code",
   "execution_count": 5,
   "id": "c26305a8",
   "metadata": {},
   "outputs": [
    {
     "name": "stdout",
     "output_type": "stream",
     "text": [
      "['name', 'appt_made_date', 'appt_start_date', 'appt_end_date', 'visitee_namelast', 'visitee_namefirst', 'meeting_room', 'description']\n"
     ]
    }
   ],
   "source": [
    "print(title\n",
    "     )"
   ]
  },
  {
   "cell_type": "code",
   "execution_count": 6,
   "id": "1151bf6d",
   "metadata": {},
   "outputs": [
    {
     "name": "stdout",
     "output_type": "stream",
     "text": [
      "[['Joshua T. Blanton', '2014-12-18T00:00:00', '1/6/2015 9:30', '1/6/2015 23:59', '', 'potus', 'west wing', 'JointService Military Honor Guard'], ['Jack T. Gutting', '2014-12-18T00:00:00', '1/6/2015 9:30', '1/6/2015 23:59', '', 'potus', 'west wing', 'JointService Military Honor Guard'], ['Bradley T. Guiles', '2014-12-18T00:00:00', '1/6/2015 9:30', '1/6/2015 23:59', '', 'potus', 'west wing', 'JointService Military Honor Guard']]\n"
     ]
    }
   ],
   "source": [
    "print(potus[:3])"
   ]
  },
  {
   "cell_type": "code",
   "execution_count": 7,
   "id": "b438e73a",
   "metadata": {},
   "outputs": [],
   "source": [
    "import datetime as dt"
   ]
  },
  {
   "cell_type": "code",
   "execution_count": 8,
   "id": "c68f03c7",
   "metadata": {},
   "outputs": [
    {
     "data": {
      "text/plain": [
       "str"
      ]
     },
     "execution_count": 8,
     "metadata": {},
     "output_type": "execute_result"
    }
   ],
   "source": [
    "type(title[2])"
   ]
  },
  {
   "cell_type": "code",
   "execution_count": 9,
   "id": "9f228a5a",
   "metadata": {},
   "outputs": [],
   "source": [
    "date_format = \"%m/%d/%Y %H:%M\""
   ]
  },
  {
   "cell_type": "code",
   "execution_count": 10,
   "id": "5155544f",
   "metadata": {},
   "outputs": [],
   "source": [
    "current_time = dt.datetime.now()"
   ]
  },
  {
   "cell_type": "code",
   "execution_count": 11,
   "id": "45e1cd46",
   "metadata": {},
   "outputs": [
    {
     "data": {
      "text/plain": [
       "datetime.datetime(2023, 5, 21, 13, 13, 7, 217986)"
      ]
     },
     "execution_count": 11,
     "metadata": {},
     "output_type": "execute_result"
    }
   ],
   "source": [
    "current_time"
   ]
  },
  {
   "cell_type": "code",
   "execution_count": 12,
   "id": "df68ad13",
   "metadata": {},
   "outputs": [
    {
     "data": {
      "text/plain": [
       "datetime.datetime"
      ]
     },
     "execution_count": 12,
     "metadata": {},
     "output_type": "execute_result"
    }
   ],
   "source": [
    "type(current_time)"
   ]
  },
  {
   "cell_type": "code",
   "execution_count": 13,
   "id": "34dce8e3",
   "metadata": {},
   "outputs": [
    {
     "data": {
      "text/plain": [
       "'1/6/2015 9:30'"
      ]
     },
     "execution_count": 13,
     "metadata": {},
     "output_type": "execute_result"
    }
   ],
   "source": [
    "potus[1][2]"
   ]
  },
  {
   "cell_type": "code",
   "execution_count": 14,
   "id": "2752ebbb",
   "metadata": {},
   "outputs": [],
   "source": [
    "date = '1/6/2015 9:30'"
   ]
  },
  {
   "cell_type": "code",
   "execution_count": 15,
   "id": "078fd690",
   "metadata": {},
   "outputs": [
    {
     "data": {
      "text/plain": [
       "str"
      ]
     },
     "execution_count": 15,
     "metadata": {},
     "output_type": "execute_result"
    }
   ],
   "source": [
    "type(date)"
   ]
  },
  {
   "cell_type": "code",
   "execution_count": 16,
   "id": "6df01982",
   "metadata": {},
   "outputs": [],
   "source": [
    "date = dt.datetime.strptime(date, date_format)"
   ]
  },
  {
   "cell_type": "code",
   "execution_count": 17,
   "id": "f9e58ed3",
   "metadata": {},
   "outputs": [
    {
     "data": {
      "text/plain": [
       "datetime.datetime(2015, 1, 6, 9, 30)"
      ]
     },
     "execution_count": 17,
     "metadata": {},
     "output_type": "execute_result"
    }
   ],
   "source": [
    "date"
   ]
  },
  {
   "cell_type": "code",
   "execution_count": 18,
   "id": "1a1f98c7",
   "metadata": {},
   "outputs": [
    {
     "data": {
      "text/plain": [
       "6"
      ]
     },
     "execution_count": 18,
     "metadata": {},
     "output_type": "execute_result"
    }
   ],
   "source": [
    "date.day"
   ]
  },
  {
   "cell_type": "code",
   "execution_count": 19,
   "id": "4818ccca",
   "metadata": {},
   "outputs": [
    {
     "data": {
      "text/plain": [
       "1"
      ]
     },
     "execution_count": 19,
     "metadata": {},
     "output_type": "execute_result"
    }
   ],
   "source": [
    "date.month"
   ]
  },
  {
   "cell_type": "code",
   "execution_count": 20,
   "id": "0277542f",
   "metadata": {},
   "outputs": [
    {
     "data": {
      "text/plain": [
       "9"
      ]
     },
     "execution_count": 20,
     "metadata": {},
     "output_type": "execute_result"
    }
   ],
   "source": [
    "date.hour"
   ]
  },
  {
   "cell_type": "code",
   "execution_count": 21,
   "id": "7d5308a6",
   "metadata": {},
   "outputs": [],
   "source": [
    "current = dt.datetime.now()"
   ]
  },
  {
   "cell_type": "code",
   "execution_count": 22,
   "id": "e898003e",
   "metadata": {},
   "outputs": [
    {
     "name": "stdout",
     "output_type": "stream",
     "text": [
      "2023-05-21 13:13:08.828365\n"
     ]
    }
   ],
   "source": [
    "print(current)"
   ]
  },
  {
   "cell_type": "code",
   "execution_count": 23,
   "id": "83cd138e",
   "metadata": {},
   "outputs": [],
   "source": [
    "nformat = '%d/%m/%Y %H:%M'"
   ]
  },
  {
   "cell_type": "code",
   "execution_count": 24,
   "id": "dc9b23ee",
   "metadata": {},
   "outputs": [
    {
     "name": "stdout",
     "output_type": "stream",
     "text": [
      "21/05/2023 13:13\n"
     ]
    }
   ],
   "source": [
    "current = dt.datetime.strftime(current,nformat)\n",
    "print(current)"
   ]
  },
  {
   "cell_type": "code",
   "execution_count": 25,
   "id": "f486df04",
   "metadata": {},
   "outputs": [
    {
     "data": {
      "text/plain": [
       "str"
      ]
     },
     "execution_count": 25,
     "metadata": {},
     "output_type": "execute_result"
    }
   ],
   "source": [
    "type(current)"
   ]
  },
  {
   "cell_type": "code",
   "execution_count": 26,
   "id": "45eb02c0",
   "metadata": {},
   "outputs": [
    {
     "name": "stdout",
     "output_type": "stream",
     "text": [
      "2023-05-21 13:13:00\n"
     ]
    }
   ],
   "source": [
    "current = dt.datetime.strptime(current,nformat)\n",
    "print(current)"
   ]
  },
  {
   "cell_type": "code",
   "execution_count": 27,
   "id": "eaf9e24a",
   "metadata": {},
   "outputs": [
    {
     "name": "stdout",
     "output_type": "stream",
     "text": [
      "21/05/2023 13:13\n"
     ]
    }
   ],
   "source": [
    "current = dt.datetime.strftime(current,nformat)\n",
    "print(current)"
   ]
  },
  {
   "cell_type": "code",
   "execution_count": 28,
   "id": "e3c7796c",
   "metadata": {},
   "outputs": [
    {
     "ename": "AttributeError",
     "evalue": "'str' object has no attribute 'day'",
     "output_type": "error",
     "traceback": [
      "\u001b[1;31m---------------------------------------------------------------------------\u001b[0m",
      "\u001b[1;31mAttributeError\u001b[0m                            Traceback (most recent call last)",
      "\u001b[1;32m<ipython-input-28-0b9e2d2cd665>\u001b[0m in \u001b[0;36m<module>\u001b[1;34m\u001b[0m\n\u001b[1;32m----> 1\u001b[1;33m \u001b[0mcurrent\u001b[0m\u001b[1;33m.\u001b[0m\u001b[0mday\u001b[0m\u001b[1;33m\u001b[0m\u001b[1;33m\u001b[0m\u001b[0m\n\u001b[0m",
      "\u001b[1;31mAttributeError\u001b[0m: 'str' object has no attribute 'day'"
     ]
    }
   ],
   "source": [
    "current.day"
   ]
  },
  {
   "cell_type": "code",
   "execution_count": null,
   "id": "c7dd9fab",
   "metadata": {},
   "outputs": [],
   "source": [
    "current = dt.datetime.strptime(current,nformat)\n",
    "print(current)"
   ]
  },
  {
   "cell_type": "code",
   "execution_count": null,
   "id": "bb29e1af",
   "metadata": {},
   "outputs": [],
   "source": [
    "current.day"
   ]
  },
  {
   "cell_type": "code",
   "execution_count": null,
   "id": "7284af24",
   "metadata": {},
   "outputs": [],
   "source": [
    "type(potus[1][2])"
   ]
  },
  {
   "cell_type": "code",
   "execution_count": null,
   "id": "b387592b",
   "metadata": {},
   "outputs": [],
   "source": [
    "print(potus[1][2])"
   ]
  },
  {
   "cell_type": "code",
   "execution_count": null,
   "id": "6d4ce3fb",
   "metadata": {},
   "outputs": [],
   "source": [
    "cformat = \"%m/%d/%Y %H:%M\""
   ]
  },
  {
   "cell_type": "code",
   "execution_count": null,
   "id": "12bba4e1",
   "metadata": {},
   "outputs": [],
   "source": [
    "cformat = \"%m/%d/%Y %H:%M\"\n",
    "for i in potus:\n",
    "    i[2] = dt.datetime.strptime(i[2],cformat)\n",
    "    i[3] = dt.datetime.strptime(i[3],cformat)\n",
    "    \n",
    "    "
   ]
  },
  {
   "cell_type": "code",
   "execution_count": 32,
   "id": "11cc4a41",
   "metadata": {},
   "outputs": [
    {
     "name": "stdout",
     "output_type": "stream",
     "text": [
      "<class 'str'>\n"
     ]
    }
   ],
   "source": [
    "print(type(potus[1][2]))"
   ]
  },
  {
   "cell_type": "code",
   "execution_count": 33,
   "id": "4fdd3715",
   "metadata": {},
   "outputs": [],
   "source": [
    "cformat = \"%m/%d/%Y %H:%M\"\n",
    "for i in potus:\n",
    "    i[2] = dt.datetime.strptime(i[2],cformat)\n",
    "    i[3] = dt.datetime.strptime(i[3],cformat)"
   ]
  },
  {
   "cell_type": "code",
   "execution_count": 34,
   "id": "1702f9d1",
   "metadata": {},
   "outputs": [
    {
     "name": "stdout",
     "output_type": "stream",
     "text": [
      "<class 'datetime.datetime'>\n"
     ]
    }
   ],
   "source": [
    "print(type(potus[1][2]))"
   ]
  },
  {
   "cell_type": "code",
   "execution_count": null,
   "id": "615754b2",
   "metadata": {},
   "outputs": [],
   "source": []
  }
 ],
 "metadata": {
  "kernelspec": {
   "display_name": "Python 3",
   "language": "python",
   "name": "python3"
  },
  "language_info": {
   "codemirror_mode": {
    "name": "ipython",
    "version": 3
   },
   "file_extension": ".py",
   "mimetype": "text/x-python",
   "name": "python",
   "nbconvert_exporter": "python",
   "pygments_lexer": "ipython3",
   "version": "3.8.8"
  }
 },
 "nbformat": 4,
 "nbformat_minor": 5
}
